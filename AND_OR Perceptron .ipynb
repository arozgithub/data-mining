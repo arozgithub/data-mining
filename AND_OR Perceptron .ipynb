{
  "nbformat": 4,
  "nbformat_minor": 0,
  "metadata": {
    "colab": {
      "provenance": []
    },
    "kernelspec": {
      "name": "python3",
      "display_name": "Python 3"
    },
    "language_info": {
      "name": "python"
    }
  },
  "cells": [
    {
      "cell_type": "code",
      "execution_count": 1,
      "metadata": {
        "id": "C84FEVLVFkLa"
      },
      "outputs": [],
      "source": [
        "import numpy as np\n",
        "\n",
        "# Define the input data for the AND gate\n",
        "input_data_and = np.array([[0, 0], [0, 1], [1, 0], [1, 1]])\n",
        "# Define the target output for the AND gate\n",
        "target_output_and = np.array([[0], [0], [0], [1]])\n",
        "\n",
        "# Define the input data for the OR gate\n",
        "input_data_or = np.array([[0, 0], [0, 1], [1, 0], [1, 1]])\n",
        "# Define the target output for the OR gate\n",
        "target_output_or = np.array([[0], [1], [1], [1]])\n",
        "\n",
        "# Define the learning rate and the number of iterations\n",
        "learning_rate = 0.1\n",
        "num_iterations = 10\n"
      ]
    },
    {
      "cell_type": "code",
      "source": [
        "\n",
        "# Define the activation function (step function)\n",
        "def activation_function(x):\n",
        "    return 1 if x >= 0 else 0\n",
        "\n",
        "# Initialize the weights and the bias for AND gate\n",
        "weights_and = np.array([0.0, 0.0])\n",
        "bias_and = 0.0\n",
        "\n",
        "# Train the perceptron for AND gate\n",
        "for i in range(num_iterations):\n",
        "    for j in range(len(input_data_and)):\n",
        "        x_and = input_data_and[j]\n",
        "        y_and = target_output_and[j]\n",
        "        weighted_sum_and = np.dot(x_and, weights_and) + bias_and\n",
        "        predicted_output_and = activation_function(weighted_sum_and)\n",
        "        error_and = y_and - predicted_output_and\n",
        "        weights_and += learning_rate * error_and * x_and\n",
        "        bias_and += learning_rate * error_and * 1\n",
        "\n"
      ],
      "metadata": {
        "id": "PFqrQA1UFoau"
      },
      "execution_count": 2,
      "outputs": []
    },
    {
      "cell_type": "code",
      "source": [
        "# Initialize the weights and the bias for OR gate\n",
        "weights_or = np.array([0.0, 0.0])\n",
        "bias_or = 0.0\n",
        "\n",
        "# Train the perceptron for OR gate\n",
        "for i in range(num_iterations):\n",
        "    for j in range(len(input_data_or)):\n",
        "        x_or = input_data_or[j]\n",
        "        y_or = target_output_or[j]\n",
        "        weighted_sum_or = np.dot(x_or, weights_or) + bias_or\n",
        "        predicted_output_or = activation_function(weighted_sum_or)\n",
        "        error_or = y_or - predicted_output_or\n",
        "        weights_or += learning_rate * error_or * x_or\n",
        "        bias_or += learning_rate * error_or * 1\n",
        "\n"
      ],
      "metadata": {
        "id": "PHdPQQDgFszs"
      },
      "execution_count": 3,
      "outputs": []
    },
    {
      "cell_type": "code",
      "source": [
        "# Print the learned weights and biases\n",
        "print(\"Learned weights for AND gate:\", weights_and)\n",
        "print(\"Learned bias for AND gate:\", bias_and)\n",
        "print(\"Learned weights for OR gate:\", weights_or)\n",
        "print(\"Learned bias for OR gate:\", bias_or)\n",
        "\n",
        "print(f'\\nActual Output for AND\\n{target_output_and}')\n",
        "# Test the perceptron for AND gate\n",
        "test_inputs_and = np.array([[0, 0], [0, 1], [1, 0], [1, 1]])\n",
        "print(\"\\nAND Gate - Input\\tPredicted Output\")\n",
        "for i in range(len(test_inputs_and)):\n",
        "    x_and = test_inputs_and[i]\n",
        "    weighted_sum_and = np.dot(x_and, weights_and) + bias_and\n",
        "    predicted_output_and = activation_function(weighted_sum_and)\n",
        "    print(f\"{x_and}\\t{predicted_output_and}\")\n"
      ],
      "metadata": {
        "colab": {
          "base_uri": "https://localhost:8080/"
        },
        "id": "tZV6FVZvFvPs",
        "outputId": "b595a8b0-400c-4b69-c938-37df64dec7cc"
      },
      "execution_count": 4,
      "outputs": [
        {
          "output_type": "stream",
          "name": "stdout",
          "text": [
            "Learned weights for AND gate: [0.2 0.1]\n",
            "Learned bias for AND gate: [-0.2]\n",
            "Learned weights for OR gate: [0.1 0.1]\n",
            "Learned bias for OR gate: [-0.1]\n",
            "\n",
            "Actual Output for AND\n",
            "[[0]\n",
            " [0]\n",
            " [0]\n",
            " [1]]\n",
            "\n",
            "AND Gate - Input\tPredicted Output\n",
            "[0 0]\t0\n",
            "[0 1]\t0\n",
            "[1 0]\t0\n",
            "[1 1]\t1\n"
          ]
        }
      ]
    },
    {
      "cell_type": "code",
      "source": [
        "\n",
        "print(f'\\nActual Output for OR\\n{target_output_or}')\n",
        "# Test the perceptron for OR gate\n",
        "test_inputs_or = np.array([[0, 0], [0, 1], [1, 0], [1, 1]])\n",
        "print(\"\\nOR Gate - Input\\tPredicted Output\")\n",
        "for i in range(len(test_inputs_or)):\n",
        "    x_or = test_inputs_or[i]\n",
        "    weighted_sum_or = np.dot(x_or, weights_or) + bias_or\n",
        "    predicted_output_or = activation_function(weighted_sum_or)\n",
        "    print(f\"{x_or}\\t{predicted_output_or}\")"
      ],
      "metadata": {
        "colab": {
          "base_uri": "https://localhost:8080/"
        },
        "id": "iTtFnHjGF1Vc",
        "outputId": "f8616aed-02de-46be-dd0b-716a1835b1b2"
      },
      "execution_count": 5,
      "outputs": [
        {
          "output_type": "stream",
          "name": "stdout",
          "text": [
            "\n",
            "Actual Output for OR\n",
            "[[0]\n",
            " [1]\n",
            " [1]\n",
            " [1]]\n",
            "\n",
            "OR Gate - Input\tPredicted Output\n",
            "[0 0]\t0\n",
            "[0 1]\t1\n",
            "[1 0]\t1\n",
            "[1 1]\t1\n"
          ]
        }
      ]
    }
  ]
}